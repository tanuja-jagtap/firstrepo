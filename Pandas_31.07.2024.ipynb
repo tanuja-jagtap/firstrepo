{
 "cells": [
  {
   "cell_type": "code",
   "execution_count": null,
   "id": "61a284f4",
   "metadata": {},
   "outputs": [],
   "source": [
    "1.series - 1D\n",
    "2.Dataframe -2D\n",
    "3.Panel - ND"
   ]
  },
  {
   "cell_type": "code",
   "execution_count": 3,
   "id": "484a74f9",
   "metadata": {},
   "outputs": [
    {
     "name": "stdout",
     "output_type": "stream",
     "text": [
      "Note: you may need to restart the kernel to use updated packages.\n"
     ]
    },
    {
     "name": "stderr",
     "output_type": "stream",
     "text": [
      "'C:\\Users\\A' is not recognized as an internal or external command,\n",
      "operable program or batch file.\n"
     ]
    }
   ],
   "source": [
    "pip install pandas #manually kernel restart"
   ]
  },
  {
   "cell_type": "code",
   "execution_count": 1,
   "id": "b271237e",
   "metadata": {},
   "outputs": [
    {
     "name": "stdout",
     "output_type": "stream",
     "text": [
      "Requirement already satisfied: pandas in c:\\users\\a i\\anaconda3\\lib\\site-packages (1.2.4)\n",
      "Requirement already satisfied: pytz>=2017.3 in c:\\users\\a i\\anaconda3\\lib\\site-packages (from pandas) (2021.1)\n",
      "Requirement already satisfied: numpy>=1.16.5 in c:\\users\\a i\\anaconda3\\lib\\site-packages (from pandas) (1.20.1)\n",
      "Requirement already satisfied: python-dateutil>=2.7.3 in c:\\users\\a i\\anaconda3\\lib\\site-packages (from pandas) (2.8.1)\n",
      "Requirement already satisfied: six>=1.5 in c:\\users\\a i\\anaconda3\\lib\\site-packages (from python-dateutil>=2.7.3->pandas) (1.15.0)\n"
     ]
    }
   ],
   "source": [
    "!pip install pandas  # kernel auto restart"
   ]
  },
  {
   "cell_type": "code",
   "execution_count": 2,
   "id": "cff5dc97",
   "metadata": {},
   "outputs": [],
   "source": [
    "import pandas as pd"
   ]
  },
  {
   "cell_type": "code",
   "execution_count": null,
   "id": "8d8a53fd",
   "metadata": {},
   "outputs": [],
   "source": [
    "csv\n",
    "excel\n",
    "dict\n",
    "json\n",
    "api\n",
    "html\n",
    "SQL"
   ]
  },
  {
   "cell_type": "code",
   "execution_count": 4,
   "id": "ef5617d8",
   "metadata": {},
   "outputs": [],
   "source": [
    "df = pd.read_csv('product.csv')"
   ]
  },
  {
   "cell_type": "code",
   "execution_count": 5,
   "id": "9d5b2e72",
   "metadata": {},
   "outputs": [
    {
     "data": {
      "text/html": [
       "<div>\n",
       "<style scoped>\n",
       "    .dataframe tbody tr th:only-of-type {\n",
       "        vertical-align: middle;\n",
       "    }\n",
       "\n",
       "    .dataframe tbody tr th {\n",
       "        vertical-align: top;\n",
       "    }\n",
       "\n",
       "    .dataframe thead th {\n",
       "        text-align: right;\n",
       "    }\n",
       "</style>\n",
       "<table border=\"1\" class=\"dataframe\">\n",
       "  <thead>\n",
       "    <tr style=\"text-align: right;\">\n",
       "      <th></th>\n",
       "      <th>prdid</th>\n",
       "      <th>prdname</th>\n",
       "      <th>prdprice</th>\n",
       "      <th>prdqnty</th>\n",
       "    </tr>\n",
       "  </thead>\n",
       "  <tbody>\n",
       "    <tr>\n",
       "      <th>0</th>\n",
       "      <td>105</td>\n",
       "      <td>copper</td>\n",
       "      <td>250000</td>\n",
       "      <td>100</td>\n",
       "    </tr>\n",
       "    <tr>\n",
       "      <th>1</th>\n",
       "      <td>109</td>\n",
       "      <td>gold</td>\n",
       "      <td>1616161</td>\n",
       "      <td>600</td>\n",
       "    </tr>\n",
       "    <tr>\n",
       "      <th>2</th>\n",
       "      <td>110</td>\n",
       "      <td>silver</td>\n",
       "      <td>94949494</td>\n",
       "      <td>789</td>\n",
       "    </tr>\n",
       "    <tr>\n",
       "      <th>3</th>\n",
       "      <td>542</td>\n",
       "      <td>iron</td>\n",
       "      <td>494994</td>\n",
       "      <td>450</td>\n",
       "    </tr>\n",
       "  </tbody>\n",
       "</table>\n",
       "</div>"
      ],
      "text/plain": [
       "   prdid prdname  prdprice  prdqnty\n",
       "0    105  copper    250000      100\n",
       "1    109    gold   1616161      600\n",
       "2    110  silver  94949494      789\n",
       "3    542    iron    494994      450"
      ]
     },
     "execution_count": 5,
     "metadata": {},
     "output_type": "execute_result"
    }
   ],
   "source": [
    "df"
   ]
  },
  {
   "cell_type": "code",
   "execution_count": 6,
   "id": "b61d5bc6",
   "metadata": {},
   "outputs": [
    {
     "data": {
      "text/plain": [
       "pandas.core.frame.DataFrame"
      ]
     },
     "execution_count": 6,
     "metadata": {},
     "output_type": "execute_result"
    }
   ],
   "source": [
    "type(df)"
   ]
  },
  {
   "cell_type": "code",
   "execution_count": 7,
   "id": "8df26d80",
   "metadata": {},
   "outputs": [
    {
     "data": {
      "text/plain": [
       "pandas.core.series.Series"
      ]
     },
     "execution_count": 7,
     "metadata": {},
     "output_type": "execute_result"
    }
   ],
   "source": [
    "type(df['prdid'])"
   ]
  },
  {
   "cell_type": "code",
   "execution_count": 8,
   "id": "63fb0ed7",
   "metadata": {},
   "outputs": [],
   "source": [
    "#empdict"
   ]
  },
  {
   "cell_type": "code",
   "execution_count": 9,
   "id": "534011b9",
   "metadata": {},
   "outputs": [],
   "source": [
    "emp = {\n",
    "    'id':[101,102,103],\n",
    "    'name':['a','b','c'],\n",
    "    'sal':[49494,494,949]\n",
    "}"
   ]
  },
  {
   "cell_type": "code",
   "execution_count": 11,
   "id": "401c6043",
   "metadata": {},
   "outputs": [],
   "source": [
    "empdf = pd.DataFrame(emp)"
   ]
  },
  {
   "cell_type": "code",
   "execution_count": 12,
   "id": "a8aa3d30",
   "metadata": {},
   "outputs": [
    {
     "data": {
      "text/html": [
       "<div>\n",
       "<style scoped>\n",
       "    .dataframe tbody tr th:only-of-type {\n",
       "        vertical-align: middle;\n",
       "    }\n",
       "\n",
       "    .dataframe tbody tr th {\n",
       "        vertical-align: top;\n",
       "    }\n",
       "\n",
       "    .dataframe thead th {\n",
       "        text-align: right;\n",
       "    }\n",
       "</style>\n",
       "<table border=\"1\" class=\"dataframe\">\n",
       "  <thead>\n",
       "    <tr style=\"text-align: right;\">\n",
       "      <th></th>\n",
       "      <th>id</th>\n",
       "      <th>name</th>\n",
       "      <th>sal</th>\n",
       "    </tr>\n",
       "  </thead>\n",
       "  <tbody>\n",
       "    <tr>\n",
       "      <th>0</th>\n",
       "      <td>101</td>\n",
       "      <td>a</td>\n",
       "      <td>49494</td>\n",
       "    </tr>\n",
       "    <tr>\n",
       "      <th>1</th>\n",
       "      <td>102</td>\n",
       "      <td>b</td>\n",
       "      <td>494</td>\n",
       "    </tr>\n",
       "    <tr>\n",
       "      <th>2</th>\n",
       "      <td>103</td>\n",
       "      <td>c</td>\n",
       "      <td>949</td>\n",
       "    </tr>\n",
       "  </tbody>\n",
       "</table>\n",
       "</div>"
      ],
      "text/plain": [
       "    id name    sal\n",
       "0  101    a  49494\n",
       "1  102    b    494\n",
       "2  103    c    949"
      ]
     },
     "execution_count": 12,
     "metadata": {},
     "output_type": "execute_result"
    }
   ],
   "source": [
    "empdf"
   ]
  },
  {
   "cell_type": "code",
   "execution_count": 13,
   "id": "2e4fa410",
   "metadata": {},
   "outputs": [],
   "source": [
    "#Dataframe using excel file"
   ]
  },
  {
   "cell_type": "code",
   "execution_count": 24,
   "id": "d1d623be",
   "metadata": {},
   "outputs": [],
   "source": [
    "df = pd.read_excel('bank.xlsx',sheet_name='Pune')"
   ]
  },
  {
   "cell_type": "code",
   "execution_count": 25,
   "id": "c49e426c",
   "metadata": {},
   "outputs": [
    {
     "data": {
      "text/html": [
       "<div>\n",
       "<style scoped>\n",
       "    .dataframe tbody tr th:only-of-type {\n",
       "        vertical-align: middle;\n",
       "    }\n",
       "\n",
       "    .dataframe tbody tr th {\n",
       "        vertical-align: top;\n",
       "    }\n",
       "\n",
       "    .dataframe thead th {\n",
       "        text-align: right;\n",
       "    }\n",
       "</style>\n",
       "<table border=\"1\" class=\"dataframe\">\n",
       "  <thead>\n",
       "    <tr style=\"text-align: right;\">\n",
       "      <th></th>\n",
       "      <th>custacc</th>\n",
       "      <th>name</th>\n",
       "      <th>bal</th>\n",
       "      <th>city</th>\n",
       "      <th>branch</th>\n",
       "    </tr>\n",
       "  </thead>\n",
       "  <tbody>\n",
       "    <tr>\n",
       "      <th>0</th>\n",
       "      <td>1051</td>\n",
       "      <td>test</td>\n",
       "      <td>751515</td>\n",
       "      <td>Pune</td>\n",
       "      <td>Katraj</td>\n",
       "    </tr>\n",
       "    <tr>\n",
       "      <th>1</th>\n",
       "      <td>10646</td>\n",
       "      <td>Sample</td>\n",
       "      <td>4949494</td>\n",
       "      <td>Pune</td>\n",
       "      <td>Wakad</td>\n",
       "    </tr>\n",
       "  </tbody>\n",
       "</table>\n",
       "</div>"
      ],
      "text/plain": [
       "   custacc    name      bal  city  branch\n",
       "0     1051    test   751515  Pune  Katraj\n",
       "1    10646  Sample  4949494  Pune   Wakad"
      ]
     },
     "execution_count": 25,
     "metadata": {},
     "output_type": "execute_result"
    }
   ],
   "source": [
    "df"
   ]
  },
  {
   "cell_type": "code",
   "execution_count": 27,
   "id": "454a8b61",
   "metadata": {},
   "outputs": [
    {
     "name": "stdout",
     "output_type": "stream",
     "text": [
      "   custacc    name      bal    city  branch\n",
      "0     1051    test   751515    Pune  Katraj\n",
      "1    10646  Sample  4949494    Pune   Wakad\n",
      "0      950  testtt     9494  Mumbai  Kalyan\n",
      "1     7949  rtetse   169161  Mumbai   Dadar\n"
     ]
    }
   ],
   "source": [
    "sheet_name = ['Pune','Mumbai']\n",
    "df_list = []\n",
    "for sheet in sheet_name:\n",
    "    df_list.append(pd.read_excel('bank.xlsx',sheet_name=sheet))\n",
    "final_df = pd.concat(df_list)\n",
    "print(final_df)"
   ]
  },
  {
   "cell_type": "code",
   "execution_count": 28,
   "id": "beefe580",
   "metadata": {},
   "outputs": [
    {
     "data": {
      "text/html": [
       "<div>\n",
       "<style scoped>\n",
       "    .dataframe tbody tr th:only-of-type {\n",
       "        vertical-align: middle;\n",
       "    }\n",
       "\n",
       "    .dataframe tbody tr th {\n",
       "        vertical-align: top;\n",
       "    }\n",
       "\n",
       "    .dataframe thead th {\n",
       "        text-align: right;\n",
       "    }\n",
       "</style>\n",
       "<table border=\"1\" class=\"dataframe\">\n",
       "  <thead>\n",
       "    <tr style=\"text-align: right;\">\n",
       "      <th></th>\n",
       "      <th>custacc</th>\n",
       "      <th>name</th>\n",
       "      <th>bal</th>\n",
       "      <th>city</th>\n",
       "      <th>branch</th>\n",
       "    </tr>\n",
       "  </thead>\n",
       "  <tbody>\n",
       "    <tr>\n",
       "      <th>0</th>\n",
       "      <td>1051</td>\n",
       "      <td>test</td>\n",
       "      <td>751515</td>\n",
       "      <td>Pune</td>\n",
       "      <td>Katraj</td>\n",
       "    </tr>\n",
       "    <tr>\n",
       "      <th>1</th>\n",
       "      <td>10646</td>\n",
       "      <td>Sample</td>\n",
       "      <td>4949494</td>\n",
       "      <td>Pune</td>\n",
       "      <td>Wakad</td>\n",
       "    </tr>\n",
       "    <tr>\n",
       "      <th>0</th>\n",
       "      <td>950</td>\n",
       "      <td>testtt</td>\n",
       "      <td>9494</td>\n",
       "      <td>Mumbai</td>\n",
       "      <td>Kalyan</td>\n",
       "    </tr>\n",
       "    <tr>\n",
       "      <th>1</th>\n",
       "      <td>7949</td>\n",
       "      <td>rtetse</td>\n",
       "      <td>169161</td>\n",
       "      <td>Mumbai</td>\n",
       "      <td>Dadar</td>\n",
       "    </tr>\n",
       "  </tbody>\n",
       "</table>\n",
       "</div>"
      ],
      "text/plain": [
       "   custacc    name      bal    city  branch\n",
       "0     1051    test   751515    Pune  Katraj\n",
       "1    10646  Sample  4949494    Pune   Wakad\n",
       "0      950  testtt     9494  Mumbai  Kalyan\n",
       "1     7949  rtetse   169161  Mumbai   Dadar"
      ]
     },
     "execution_count": 28,
     "metadata": {},
     "output_type": "execute_result"
    }
   ],
   "source": [
    "final_df"
   ]
  },
  {
   "cell_type": "code",
   "execution_count": 32,
   "id": "cdaf9401",
   "metadata": {},
   "outputs": [
    {
     "data": {
      "text/plain": [
       "['Matadata',\n",
       " 'Sheet1',\n",
       " 'Sheet2',\n",
       " 'Sheet3',\n",
       " 'Sheet4',\n",
       " 'Sheet5',\n",
       " 'Sheet6',\n",
       " 'Sheet7',\n",
       " 'Sheet8',\n",
       " 'Sheet9',\n",
       " 'Pune',\n",
       " 'Mumbai']"
      ]
     },
     "execution_count": 32,
     "metadata": {},
     "output_type": "execute_result"
    }
   ],
   "source": [
    "from openpyxl import load_workbook\n",
    "wb = load_workbook(filename = 'bank.xlsx')\n",
    "wb.sheetnames"
   ]
  },
  {
   "cell_type": "code",
   "execution_count": null,
   "id": "c3682ada",
   "metadata": {},
   "outputs": [],
   "source": [
    "Project :\n",
    "    confluence: 2hr jira kanban,ticket\n",
    "        Dataformat -- 1 customer data        \n",
    "        90 Proejct KT record documents --- confluence"
   ]
  },
  {
   "cell_type": "code",
   "execution_count": null,
   "id": "78a09361",
   "metadata": {},
   "outputs": [],
   "source": []
  },
  {
   "cell_type": "code",
   "execution_count": null,
   "id": "b605314b",
   "metadata": {},
   "outputs": [],
   "source": [
    "JSON"
   ]
  },
  {
   "cell_type": "code",
   "execution_count": 67,
   "id": "68d56f86",
   "metadata": {},
   "outputs": [],
   "source": [
    "import requests"
   ]
  },
  {
   "cell_type": "code",
   "execution_count": 68,
   "id": "ffce729f",
   "metadata": {},
   "outputs": [],
   "source": [
    "data = requests.get('https://api.sampleapis.com/codingresources/codingResources')"
   ]
  },
  {
   "cell_type": "code",
   "execution_count": 69,
   "id": "93982bca",
   "metadata": {},
   "outputs": [
    {
     "data": {
      "text/plain": [
       "b'[{\"id\":1,\"description\":\"South Florida\\'s Best Meetups on Youtube\",\"url\":\"https://www.youtube.com/bocajs\",\"types\":[\"tutorial\"],\"topics\":[\"js\",\"html\"],\"levels\":[\"beginner\",\"intermediate\",\"advanced\"]},{\"id\":2,\"description\":\"BocaJS - South Florida\\'s Largest Developer Meetup\",\"url\":\"https://Meetup.com/bocajs\",\"types\":[\"meeting\"],\"topics\":[\"js\",\"html\"],\"levels\":[\"beginner\",\"intermediate\",\"advanced\"]},{\"id\":3,\"description\":\"Palm Beach Javascript\",\"url\":\"https://www.youtube.com/palm-beach-js\",\"types\":[\"meeting\"],\"topics\":[\"js\",\"html\"],\"levels\":[\"beginner\",\"intermediate\",\"advanced\"]},{\"id\":4,\"description\":\"35 Useful CSS3 Tutorials To Boost Your Skills\",\"url\":\"http://www.tripwiremagazine.com/2012/06/css3-tutorials.html\",\"types\":[\"tutorial\"],\"topics\":[\"html\",\"css\"],\"levels\":[\"beginner\",\"intermediate\",\"advanced\"]},{\"id\":5,\"description\":\"5 more ways to start learning how to code right now for free\",\"url\":\"http://thenextweb.com/dd/2012/02/02/5-more-ways-to-start-learning-how-to-code-right-now-for-free\",\"types\":[\"reference\",\"blog post\"],\"topics\":[\"learn to code\",\"computer science\",\"general programming\"],\"levels\":[\"beginner\"]},{\"id\":6,\"description\":\"5 Ways To Learn Code From The Comfort Of Your Own Browser\",\"url\":\"http://techcrunch.com/2012/08/21/5-ways-to-learn-code-from-the-comfort-of-your-own-browser\",\"types\":[\"reference\",\"blog post\"],\"topics\":[\"learn to code\"],\"levels\":[\"beginner\"]},{\"id\":7,\"description\":\"Academy RPA UiPath\",\"url\":\"https://academy.uipath.com/learn/course/external/view/elearning/638/RPAStarterTraining?utm_source=girls-who-code&utm_medium=link&utm_campaign=ET19ACD&utm_term=womenwhocode\",\"types\":[\"interactive course\"],\"topics\":[\"general programming\",\"computer science\",\"learn to code\"],\"levels\":[\"beginner\"]},{\"id\":8,\"description\":\"Also, Why I\\'m learning to code\",\"url\":\"http://also.roybahat.com/post/11574823708/why-im-learning-to-code\",\"types\":[\"reference\",\"blog post\"],\"topics\":[\"learn to code\"],\"levels\":[\"beginner\",\"intermediate\",\"advanced\"]},{\"id\":9,\"description\":\"Alternate Java Programming Style Guide from JavaRanch\",\"url\":\"http://www.javaranch.com/style.jsp\",\"types\":[\"style guide\"],\"topics\":[\"java\"],\"levels\":[\"beginner\",\"intermediate\",\"advanced\"]},{\"id\":10,\"description\":\"Apple Human Interface Guidelines\",\"url\":\"https://developer.apple.com/design/resources\",\"types\":[\"article\",\"book\"],\"topics\":[\"iOS App Development\"],\"levels\":[\"intermediate\"]},{\"id\":11,\"description\":\"Atlassian Git Tutorials\",\"url\":\"https://www.atlassian.com/git\",\"types\":[\"tutorial\"],\"topics\":[\"git\"],\"levels\":[\"beginner\",\"intermediate\"]},{\"id\":12,\"description\":\"Automate the Boring Stuff with Python\",\"url\":\"https://automatetheboringstuff.com\",\"types\":[\"tutorial\"],\"topics\":[\"python\"],\"levels\":[\"beginner\"]},{\"id\":13,\"description\":\"AWS Events & Webinars\",\"url\":\"https://aws.amazon.com/about-aws/events\",\"types\":[\"reference\"],\"topics\":[\"aws\",\"cloud\"],\"levels\":[\"beginner\"]},{\"id\":14,\"description\":\"AWS Loft Talk An Engineer\\'s Tour of the Internet of Things (Sep 2015 video)\",\"url\":\"https://www.youtube.com/watch?v=yElH0mGzEkE\",\"types\":[\"video\"],\"topics\":[\"iot\"],\"levels\":[\"beginner\",\"intermediate\",\"advanced\"]},{\"id\":15,\"description\":\"Babel\\'s ECMAScript 6 tutorial\",\"url\":\"http://babeljs.io/docs/learn-es2015\",\"types\":[\"tutorial\"],\"topics\":[\"javascript\"],\"levels\":[\"beginner\",\"intermediate\"]},{\"id\":16,\"description\":\"Bug Bounties 101 - Getting Started\",\"url\":\"https://fin1te.net/articles/bug-bounties-101-getting-started\",\"types\":[\"guide\",\"reference\"],\"topics\":[\"security\",\"bug\"],\"levels\":[\"beginner\",\"intermediate\"]},{\"id\":17,\"description\":\"Bugcrowd blog - for bug bounty community\",\"url\":\"https://blog.bugcrowd.com\",\"types\":[\"blog\"],\"topics\":[\"security\",\"bug\"],\"levels\":[\"beginner\",\"intermediate\"]},{\"id\":18,\"description\":\"Build Cross Browser Extensions in Minutes - Crossrider.com\",\"url\":\"https://crossrider.com\",\"types\":[\"product\"],\"topics\":[\"html\",\"css\"],\"levels\":[\"intermediate\",\"advanced\"]},{\"id\":19,\"description\":\"BuildingWebApps.com\",\"url\":\"http://www.buildingwebapps.com\",\"types\":[\"tutorial\",\"reference\"],\"topics\":[\"html\",\"css\",\"ruby\"],\"levels\":[\"beginner\",\"intermediate\"]},{\"id\":20,\"description\":\"BuildItSecure.ly\",\"url\":\"https://builditsecure.ly/#resources\",\"types\":[\"guide\",\"reference\"],\"topics\":[\"iot\"],\"levels\":[\"beginner\",\"intermediate\",\"advanced\"]},{\"id\":21,\"description\":\"BuildItSecure.ly - talk introducing initiative - initiative mentioned at 37:36\",\"url\":\"https://www.youtube.com/watch?v=WHdU4LutBGU&feature=youtu.be\",\"types\":[\"video\"],\"topics\":[\"iot\"],\"levels\":[\"beginner\",\"intermediate\",\"advanced\"]},{\"id\":22,\"description\":\"BYTE: A Special issue on Smalltalk\",\"url\":\"https://archive.org/details/byte-magazine-1981-08\",\"types\":[\"reference\"],\"topics\":[\"smalltalk\"],\"levels\":[\"beginner\",\"intermediate\"]},{\"id\":23,\"description\":\"C/C++ Reference\",\"url\":\"http://en.cppreference.com/w\",\"types\":[\"reference\"],\"topics\":[\"c++\"],\"levels\":[\"beginner\",\"intermediate\",\"advanced\"]},{\"id\":24,\"description\":\"Code academy\",\"url\":\"http://www.codecademy.com/en/tracks/javascript\",\"types\":[\"tutorial\"],\"topics\":[\"javascript\"],\"levels\":[\"beginner\",\"intermediate\"]},{\"id\":25,\"description\":\"Codecademy\",\"url\":\"https://www.codecademy.com\",\"types\":[\"lab\",\"interactive course\",\"tutorial\"],\"topics\":[\"rails\",\"sql\",\"angularjs\",\"python\",\"php\",\"java\",\"html\",\"css\",\"javascript\",\"git\",\"ruby\"],\"levels\":[\"beginner\"]},{\"id\":26,\"description\":\"Codecademy.com\",\"url\":\"https://www.codecademy.com/#!/exercise/0\",\"types\":[\"school\",\"training\"],\"topics\":[\"schools\"],\"levels\":[\"beginner\",\"intermediate\",\"advanced\"]},{\"id\":27,\"description\":\"Codecademy is now teaching Python!\",\"url\":\"https://www.codecademy.com/learn/python\",\"types\":[\"tutorial\"],\"topics\":[\"python\"],\"levels\":[\"beginner\",\"intermediate\"]},{\"id\":28,\"description\":\"Codecademy - Ruby\",\"url\":\"https://www.codecademy.com/learn/ruby\",\"types\":[\"tutorial\"],\"topics\":[\"ruby\"],\"levels\":[\"beginner\",\"intermediate\"]},{\"id\":29,\"description\":\"Codecademy - Ruby Track\",\"url\":\"https://www.codecademy.com/tracks/ruby\",\"types\":[\"interactive course\",\"tutorial\"],\"topics\":[\"ruby\",\"learn to code\"],\"levels\":[\"intermediate\",\"beginner\"]},{\"id\":30,\"description\":\"Codecademy\\'s Learn SQL\",\"url\":\"https://www.codecademy.com/learn/learn-sql\",\"types\":[\"tutorial\"],\"topics\":[\"sql\"],\"levels\":[\"beginner\",\"intermediate\"]},{\"id\":31,\"description\":\"CodeEval - Evaluations Made Easy\",\"url\":\"https://www.codeeval.com\",\"types\":[\"help forum\"],\"topics\":[\"misc\"],\"levels\":[\"beginner\",\"intermediate\",\"advanced\"]},{\"id\":32,\"description\":\"CodeMentor.io Go Tutorial\",\"url\":\"https://www.codementor.io/go\",\"types\":[\"video\",\"tutorial\"],\"topics\":[\"Go\"],\"levels\":[\"beginner\",\"intermediate\",\"advanced\"]},{\"id\":33,\"description\":\"CodePath iOS Guides\",\"url\":\"http://guides.codepath.com/ios\",\"types\":[\"tutorial\"],\"topics\":[\"iOS\"],\"levels\":[\"beginner\",\"intermediate\"]},{\"id\":34,\"description\":\"CodePath iOS Guides for Designers\",\"url\":\"http://guides.codepath.com/ios/Designer-Guides\",\"types\":[\"tutorial\"],\"topics\":[\"iOS\"],\"levels\":[\"beginner\",\"intermediate\"]},{\"id\":35,\"description\":\"CodePath YouTube playlists\",\"url\":\"https://www.youtube.com/channel/UCvrvJyrx7ebh02wuOId11HA/playlists\",\"types\":[\"video\"],\"topics\":[\"iOS\"],\"levels\":[\"beginner\",\"intermediate\"]},{\"id\":36,\"description\":\"CodePen - scope out cool ideas for html/css/js projects\",\"url\":\"http://codepen.io\",\"types\":[\"code projects\"],\"topics\":[\"javascript\"],\"levels\":[\"beginner\",\"intermediate\"]},{\"id\":37,\"description\":\"Coder Projects\",\"url\":\"http://googlecreativelab.github.io/coder-projects\",\"types\":[\"code projects\"],\"topics\":[\"general programming\"],\"levels\":[\"beginner\",\"intermediate\"]},{\"id\":38,\"description\":\"Code School\",\"url\":\"https://www.codeschool.com\",\"types\":[\"podcast\",\"video\",\"tutorial\"],\"topics\":[\"objective-c\",\"rails\",\"sql\",\"iOS\",\"html\",\"css\",\"javascript\",\"git\",\"ruby\"],\"levels\":[\"advanced\",\"intermediate\",\"beginner\"]},{\"id\":39,\"description\":\"Code School - Discover Chrome DevTools\",\"url\":\"http://discover-devtools.codeschool.com\",\"types\":[\"tools\"],\"topics\":[\"misc\"],\"levels\":[\"beginner\",\"intermediate\",\"advanced\"]},{\"id\":40,\"description\":\"Code School: Rails for Zombies\",\"url\":\"http://railsforzombies.org\",\"types\":[\"tutorial\",\"video\"],\"topics\":[\"ruby\"],\"levels\":[\"beginner\",\"intermediate\"]},{\"id\":41,\"description\":\"Code School\\'s Try Objective-C\",\"url\":\"https://www.codeschool.com/courses/try-objective-c\",\"types\":[\"tutorial\"],\"topics\":[\"iOS\"],\"levels\":[\"beginner\",\"intermediate\"]},{\"id\":42,\"description\":\"Code School - Try Git (in-browser)\",\"url\":\"https://try.github.io/levels/1/challenges/1\",\"types\":[\"interactive\",\"practice\"],\"topics\":[\"git\"],\"levels\":[\"beginner\",\"intermediate\"]},{\"id\":43,\"description\":\"Code School - Try R\",\"url\":\"https://www.codeschool.com/courses/try-r\",\"types\":[\"tutorial\"],\"topics\":[\"data\"],\"levels\":[\"beginner\",\"intermediate\"]},{\"id\":44,\"description\":\"CodingBat Java practice problems\",\"url\":\"http://codingbat.com/java\",\"types\":[\"quiz\",\"tutorial\",\"practice problems\"],\"topics\":[\"java\"],\"levels\":[\"beginner\",\"intermediate\"]},{\"id\":45,\"description\":\"CodingBat Python practice problems\",\"url\":\"http://codingbat.com/python\",\"types\":[\"practice problems\"],\"topics\":[\"python\"],\"levels\":[\"beginner\",\"intermediate\"]},{\"id\":46,\"description\":\"Collaborating to Win -- presentation on Collaborative CTF Infrastructure (video)\",\"url\":\"https://www.youtube.com/watch?v=6X3xSsoqoFw\",\"types\":[\"video\"],\"topics\":[\"security\",\"ctf\"],\"levels\":[\"beginner\",\"intermediate\"]},{\"id\":47,\"description\":\"Collaborating to Win -- write up of talk with links\",\"url\":\"http://lockboxx.blogspot.com/2015/11/cooperative-infrastructure-for-security.html\",\"types\":[\"reference\"],\"topics\":[\"security\",\"ctf\"],\"levels\":[\"beginner\",\"intermediate\"]},{\"id\":48,\"description\":\"Computer Programming using GNU Smalltalk\",\"url\":\"http://www.canol.info/books/computer_programming_using_gnu_smalltalk\",\"types\":[\"book\"],\"topics\":[\"smalltalk\"],\"levels\":[\"beginner\",\"intermediate\"]},{\"id\":49,\"description\":\"Computer Science: Free Courses\",\"url\":\"http://www.openculture.com/computer_science_free_courses\",\"types\":[\"reference\"],\"topics\":[\"learn to code\",\"computer science\",\"general programming\"],\"levels\":[\"beginner\",\"intermediate\",\"advanced\"]},{\"id\":50,\"description\":\"Coursera Python\",\"url\":\"https://www.coursera.org/course/interactivepython1\",\"types\":[\"tutorial\"],\"topics\":[\"python\"],\"levels\":[\"beginner\",\"intermediate\"]},{\"id\":51,\"description\":\"Coursera - The Data Scientist\\xe2\\x80\\x99s Toolbox (John Hopkin\\'s University)\",\"url\":\"https://www.coursera.org/learn/data-scientists-tools\",\"types\":[\"tutorial\"],\"topics\":[\"data\"],\"levels\":[\"beginner\",\"intermediate\"]},{\"id\":52,\"description\":\"Cracking the Coding Interview\",\"url\":\"http://www.amazon.com/Cracking-Coding-Interview-Programming-Questions/dp/098478280X\",\"types\":[\"book\"],\"topics\":[\"general programming\",\"inteview\"],\"levels\":[\"beginner\",\"intermediate\"]},{\"id\":53,\"description\":\"CSS Diner: Select the Plates\",\"url\":\"http://flukeout.github.io\",\"types\":[\"game\",\"interactive course\"],\"topics\":[\"css\"],\"levels\":[\"intermediate\"]},{\"id\":54,\"description\":\"CSS Grids and Flexbox for Responsive Web Design\",\"url\":\"https://frontendmasters.com/courses/css-grids-flexbox\",\"types\":[\"video\",\"tutorial\"],\"topics\":[\"css\"],\"levels\":[\"beginner\"]},{\"id\":55,\"description\":\"CSS Selectors\",\"url\":\"http://benhowdle.im/cssselectors\",\"types\":[\"reference\"],\"topics\":[\"css\"],\"levels\":[\"intermediate\"]},{\"id\":56,\"description\":\"CTF Field Guide\",\"url\":\"http://trailofbits.github.io/ctf/index.html\",\"types\":[\"guide\",\"reference\"],\"topics\":[\"security\",\"ctf\"],\"levels\":[\"beginner\",\"intermediate\"]},{\"id\":57,\"description\":\"ctftime.org\",\"url\":\"https://ctftime.org\",\"types\":[\"challenges\"],\"topics\":[\"security\",\"ctf\"],\"levels\":[\"beginner\",\"intermediate\"]},{\"id\":58,\"description\":\"Dash: General Assembly\",\"url\":\"https://dash.generalassemb.ly\",\"types\":[\"lab\",\"interactive course\",\"tutorial\"],\"topics\":[\"html\",\"css\",\"javascript\"],\"levels\":[\"beginner\"]},{\"id\":59,\"description\":\"Deep JavaScript Foundations\",\"url\":\"https://frontendmasters.com/courses/deep-javascript-v3\",\"types\":[\"video\",\"tutorial\"],\"topics\":[\"javascript\"],\"levels\":[\"intermediate\"]},{\"id\":60,\"description\":\"DesignCode\",\"url\":\"https://designcode.io\",\"types\":[\"video reference tutorial\"],\"topics\":[\"Xcode vue AdobeXD Sketch mobile app development React swift iOS\"],\"levels\":[\"intermediate\"]},{\"id\":61,\"description\":\"Developing Apps for iOS (SD)\",\"url\":\"https://itunes.apple.com/itunes-u/developing-apps-for-ios-sd/id395631522\",\"types\":[\"podcast\",\"video\",\"tutorial\"],\"topics\":[\"iOS\"],\"levels\":[\"beginner\",\"intermediate\"]},{\"id\":62,\"description\":\"Developing iOS 7 Apps with Objective-C\",\"url\":\"https://itunes.apple.com/us/course/developing-ios-7-apps-for/id733644550\",\"types\":[\"podcast\",\"tutorial\"],\"topics\":[\"iOS\"],\"levels\":[\"intermediate\",\"advanced\"]},{\"id\":63,\"description\":\"Developing iOS 8 Apps with Swift\",\"url\":\"https://itunes.apple.com/us/course/developing-ios-8-apps-swift/id961180099\",\"types\":[\"podcast\",\"tutorial\"],\"topics\":[\"iOS\",\"swift\"],\"levels\":[\"intermediate\",\"advanced\"]},{\"id\":64,\"description\":\"Eclipse.org - IoT - includes Connected Greenhouse tutorial (uses Java language)\",\"url\":\"http://iot.eclipse.org/getting-started\",\"types\":[\"tutorial\"],\"topics\":[\"iot\"],\"levels\":[\"beginner\",\"intermediate\",\"advanced\"]},{\"id\":65,\"description\":\"edX - Big Data in Education (Teachers College | Columbia University)\",\"url\":\"https://www.edx.org/course/big-data-education-teacherscollegex-bde1x\",\"types\":[\"tutorial\"],\"topics\":[\"data\"],\"levels\":[\"beginner\",\"intermediate\"]},{\"id\":66,\"description\":\"edX - Explore statistics with R\",\"url\":\"https://www.edx.org/course/explore-statistics-r-kix-kiexplorx-0\",\"types\":[\"tutorial\"],\"topics\":[\"data\"],\"levels\":[\"beginner\",\"intermediate\"]},{\"id\":67,\"description\":\"Effective Go\",\"url\":\"https://golang.org/doc/effective_go.html\",\"types\":[\"tutorial\",\"book\"],\"topics\":[\"Go\"],\"levels\":[\"beginner\",\"intermediate\",\"advanced\"]},{\"id\":68,\"description\":\"Eloquent JavaScript\",\"url\":\"http://eloquentjavascript.net\",\"types\":[\"book\"],\"topics\":[\"javascript\"],\"levels\":[\"intermediate\",\"beginner\"]},{\"id\":69,\"description\":\"Embedded Device Hacking Blog\",\"url\":\"http://www.devttys0.com/blog\",\"types\":[\"blog\"],\"topics\":[\"security\",\"bug\"],\"levels\":[\"beginner\",\"intermediate\"]},{\"id\":70,\"description\":\"Enjoy CSS.com\",\"url\":\"http://enjoycss.com\",\"types\":[\"lab\",\"interactive course\"],\"topics\":[\"css\"],\"levels\":[\"intermediate\"]},{\"id\":71,\"description\":\"Exercism\",\"url\":\"http://www.exercism.io\",\"types\":[\"quiz\",\"tutorial\",\"practice problems\"],\"topics\":[\"general programming\"],\"levels\":[\"beginner\",\"intermediate\"]},{\"id\":72,\"description\":\"Flatiron iOS pre-work\",\"url\":\"https://learn.co/signup\",\"types\":[\"tutorial\"],\"topics\":[\"iOS\"],\"levels\":[\"beginner\",\"intermediate\"]},{\"id\":73,\"description\":\"Free Code Camp\",\"url\":\"http://www.freecodecamp.com\",\"types\":[\"code projects\"],\"topics\":[\"javascript\"],\"levels\":[\"beginner\",\"intermediate\"]},{\"id\":74,\"description\":\"Full Stack Python\",\"url\":\"https://www.fullstackpython.com\",\"types\":[\"tutorial\"],\"topics\":[\"python\"],\"levels\":[\"beginner\",\"intermediate\"]},{\"id\":75,\"description\":\"Getting Started in Information Security (Reddit wiki)\",\"url\":\"https://www.reddit.com/r/netsec/wiki/start\",\"types\":[\"reference\",\"blog post\"],\"topics\":[\"security\"],\"levels\":[\"beginner\",\"intermediate\"]},{\"id\":76,\"description\":\"Git for Non-Developers\",\"url\":\"http://anitacheng.com/git-for-non-developers\",\"types\":[\"tutorial\"],\"topics\":[\"git\"],\"levels\":[\"beginner\",\"intermediate\"]},{\"id\":77,\"description\":\"GitHub - Git Cheat Sheet (pdf)\",\"url\":\"https://training.github.com/kit/downloads/github-git-cheat-sheet.pdf\",\"types\":[\"cheatsheet\"],\"topics\":[\"git\"],\"levels\":[\"beginner\",\"intermediate\"]},{\"id\":78,\"description\":\"Git-it - intro Git/Github tutorial\",\"url\":\"https://github.com/jlord/git-it\",\"types\":[\"tutorial\"],\"topics\":[\"git\"],\"levels\":[\"beginner\",\"intermediate\"]},{\"id\":79,\"description\":\"GNU Smalltalk User\\'s Guide\",\"url\":\"https://www.gnu.org/software/smalltalk/manual/html_node/Tutorial.html\",\"types\":[\"tutorial\"],\"topics\":[\"smalltalk\"],\"levels\":[\"beginner\",\"intermediate\"]},{\"id\":80,\"description\":\"Go Language Tour\",\"url\":\"http://tour.golang.org/welcome/1\",\"types\":[\"tutorial\"],\"topics\":[\"Go\"],\"levels\":[\"beginner\",\"intermediate\"]},{\"id\":81,\"description\":\"Google Java Style\",\"url\":\"https://google.github.io/styleguide/javaguide.html\",\"types\":[\"style guide\"],\"topics\":[\"java\"],\"levels\":[\"beginner\",\"intermediate\",\"advanced\"]},{\"id\":82,\"description\":\"Google\\'s C++ Class\",\"url\":\"https://developers.google.com/edu/c++\",\"types\":[\"tutorial\"],\"topics\":[\"c++\"],\"levels\":[\"beginner\",\"intermediate\"]},{\"id\":83,\"description\":\"Hacker Rank\",\"url\":\"https://www.hackerrank.com\",\"types\":[\"tutorial\",\"practice problems\"],\"topics\":[\"javascript\"],\"levels\":[\"beginner\",\"intermediate\"]},{\"id\":84,\"description\":\"Hacking with Swift\",\"url\":\"https://www.hackingwithswift.com\",\"types\":[\"video\",\"book\",\"tutorial\"],\"topics\":[\"swiftUI\",\"mobile app development\",\"swift\",\"iOS\"],\"levels\":[\"intermediate\"]},{\"id\":85,\"description\":\"Head First Java\",\"url\":\"http://www.headfirstlabs.com/books/hfjava\",\"types\":[\"book\"],\"topics\":[\"java\"],\"levels\":[\"beginner\",\"intermediate\"]},{\"id\":86,\"description\":\"HTML & CSS\",\"url\":\"http://www.amazon.com/HTML-CSS-Design-Build-Websites/dp/1118008189\",\"types\":[\"book\"],\"topics\":[\"html\",\"css\"],\"levels\":[\"intermediate\",\"beginner\"]},{\"id\":87,\"description\":\"InfoSec consulting companies - Ask Us Anything (2014 edition)\",\"url\":\"https://www.reddit.com/r/netsec/comments/202bsf/hey_guys_we_run_five_infosec_consulting_companies/?sort=old&limit=500\",\"types\":[\"reference\",\"blog post\"],\"topics\":[\"security\"],\"levels\":[\"beginner\",\"intermediate\"]},{\"id\":88,\"description\":\"InfoSec consulting companies - Ask Us Anything (2015 edition)\",\"url\":\"https://www.reddit.com/r/netsec/comments/3k9ul8/we_run_five_infosec_consulting_companies_ask_us/?sort=qa&limit=500\",\"types\":[\"reference\",\"blog post\"],\"topics\":[\"security\"],\"levels\":[\"beginner\",\"intermediate\"]},{\"id\":89,\"description\":\"Install Rails\",\"url\":\"http://guides.railsgirls.com/install\",\"types\":[\"tutorial\"],\"topics\":[\"ruby\"],\"levels\":[\"beginner\",\"intermediate\"]},{\"id\":90,\"description\":\"iOS Programming: The Big Nerd Ranch Guide (4th Edition):\",\"url\":\"http://www.amazon.com/iOS-Programming-Ranch-Edition-Guides/dp/0321942051\",\"types\":[\"book\"],\"topics\":[\"iOS\"],\"levels\":[\"beginner\",\"intermediate\"]},{\"id\":91,\"description\":\"JavaScript Algorithms and Data Structures\",\"url\":\"https://github.com/trekhleb/javascript-algorithms#readme\",\"types\":[\"reference\",\"tutorial\"],\"topics\":[\"css\"],\"levels\":[\"intermediate\"]},{\"id\":92,\"description\":\"Javascript and HTML5 Now - short overview of modern JS. \",\"url\":\"http://www.oreilly.com/programming/free/javascript-html5-now.csp\",\"types\":[\"book\"],\"topics\":[\"javascript\"],\"levels\":[\"beginner\",\"intermediate\"]},{\"id\":93,\"description\":\"JavaScript & JQuery\",\"url\":\"http://www.amazon.com/JavaScript-JQuery-Interactive-Front-End-Development/dp/1118531647\",\"types\":[\"book\"],\"topics\":[\"javascript\"],\"levels\":[\"intermediate\",\"beginner\"]},{\"id\":94,\"description\":\"Javascript The Good Parts\",\"url\":\"http://www.amazon.com/JavaScript-Good-Parts-Douglas-Crockford/dp/0596517742\",\"types\":[\"book\"],\"topics\":[\"javascript\"],\"levels\":[\"advanced\",\"intermediate\"]},{\"id\":95,\"description\":\"Khan Academy\",\"url\":\"https://www.khanacademy.org/computing/computer-programming/programming\",\"types\":[\"tutorial\",\"reference\"],\"topics\":[\"javascript\"],\"levels\":[\"beginner\",\"intermediate\"]},{\"id\":96,\"description\":\"Khan Academy\\'s Intro to SQL\",\"url\":\"https://www.khanacademy.org/computing/computer-programming/sql\",\"types\":[\"tutorial\"],\"topics\":[\"sql\"],\"levels\":[\"beginner\",\"intermediate\"]},{\"id\":97,\"description\":\"Learn C++\",\"url\":\"http://www.learncpp.com\",\"types\":[\"tutorial\"],\"topics\":[\"c++\"],\"levels\":[\"beginner\",\"intermediate\"]},{\"id\":98,\"description\":\"Learn C The Hard Way\",\"url\":\"http://c.learncodethehardway.org\",\"types\":[\"book\"],\"topics\":[\"c\"],\"levels\":[\"beginner\",\"intermediate\"]},{\"id\":99,\"description\":\"Learn Git Branching\",\"url\":\"http://pcottle.github.io/learnGitBranching\",\"types\":[\"tutorial\"],\"topics\":[\"git\",\"git branching\"],\"levels\":[\"advanced\",\"intermediate\",\"beginner\"]},{\"id\":100,\"description\":\"Learn Go in Y minutes\",\"url\":\"https://learnxinyminutes.com/docs/go\",\"types\":[\"tutorial\"],\"topics\":[\"Go\"],\"levels\":[\"beginner\"]},{\"id\":101,\"description\":\"Learning HTML: Guides and Tutorials\",\"url\":\"https://developer.mozilla.org/en-US/docs/Learn/HTML\",\"types\":[\"guidelines\",\"reference\"],\"topics\":[\"html\"],\"levels\":[\"intermediate\"]},{\"id\":102,\"description\":\"Learning to Program in Go Video Series\",\"url\":\"https://www.youtube.com/playlist?list=PLei96ZX_m9sVSEXWwZi8uwd2vqCpEm4m6\",\"types\":[\"video\",\"tutorial\"],\"topics\":[\"Go\"],\"levels\":[\"beginner\",\"intermediate\"]},{\"id\":103,\"description\":\"Learn JavaScript Unit Testing with Mocha, Chai and Simon\",\"url\":\"https://www.udemy.com/learn-javascript-unit-testing-with-mocha-chai-and-sinon\",\"types\":[\"interactive course\",\"tutorial\"],\"topics\":[\"general programming\",\"javascript\"],\"levels\":[\"advanced\"]},{\"id\":104,\"description\":\"Learn Python with Games\",\"url\":\"http://www.checkio.org\",\"types\":[\"game\"],\"topics\":[\"python\"],\"levels\":[\"beginner\",\"intermediate\"]},{\"id\":105,\"description\":\"Learn Ruby with the EdgeCase Ruby Koans\",\"url\":\"http://rubykoans.com\",\"types\":[\"tutorial\",\"book\"],\"topics\":[\"ruby\"],\"levels\":[\"beginner\",\"intermediate\"]},{\"id\":106,\"description\":\"Learn to code the hard way\",\"url\":\"http://cli.learncodethehardway.org\",\"types\":[\"book\"],\"topics\":[\"cli\"],\"levels\":[\"beginner\",\"intermediate\"]},{\"id\":107,\"description\":\"Learn to Program, by Chris Pine\",\"url\":\"http://it-ebooks.info/book/36\",\"types\":[\"book\"],\"topics\":[\"ruby\",\"learn to code\"],\"levels\":[\"beginner\"]},{\"id\":108,\"description\":\"Learn To Style HTML With CSS Tags\",\"url\":\"https://developer.mozilla.org/en-US/docs/Learn/CSS\",\"types\":[\"guidelines\",\"reference\",\"tutorial\"],\"topics\":[\"css\"],\"levels\":[\"beginner\"]},{\"id\":109,\"description\":\"Linux Fundamentals, Part 1\",\"url\":\"http://www.funtoo.org/Linux_Fundamentals,_Part_1\",\"types\":[\"tutorial\"],\"topics\":[\"misc\",\"linux\"],\"levels\":[\"beginner\",\"intermediate\",\"advanced\"]},{\"id\":110,\"description\":\"Madona Syombua | YouTube\",\"url\":\"https://www.youtube.com/channel/UCaP1Jt-D1hiZyb6bY7NSqKQ/about\",\"types\":[\"video\"],\"topics\":[\"mobile app development Kotlin machine learning java android\"],\"levels\":[\"intermediate\"]},{\"id\":111,\"description\":\"Matasano Crypto Challenges\",\"url\":\"http://cryptopals.com\",\"types\":[\"hacking challenges\",\"demo apps\"],\"topics\":[\"security\"],\"levels\":[\"beginner\",\"intermediate\",\"advanced\"]},{\"id\":112,\"description\":\"MIT 6.087 Practical Programming in C (taught January IAP 2010)\",\"url\":\"http://ocw.mit.edu/courses/electrical-engineering-and-computer-science/6-087-practical-programming-in-c-january-iap-2010\",\"types\":[\"tutorial\"],\"topics\":[\"c\",\"c++\"],\"levels\":[\"beginner\",\"intermediate\"]},{\"id\":113,\"description\":\"MIT 6.088 Intro to C Memory Mgmt and C++ Object-Oriented Prog. (taught January IAP 2010)\",\"url\":\"http://ocw.mit.edu/courses/electrical-engineering-and-computer-science/6-088-introduction-to-c-memory-management-and-c-object-oriented-programming-january-iap-2010\",\"types\":[\"tutorial\"],\"topics\":[\"c\",\"c++\"],\"levels\":[\"beginner\",\"intermediate\"]},{\"id\":114,\"description\":\"MIT 6.096 Introduction to C++ (taught January IAP 2011)\",\"url\":\"http://ocw.mit.edu/courses/electrical-engineering-and-computer-science/6-096-introduction-to-c-january-iap-2011\",\"types\":[\"tutorial\"],\"topics\":[\"c\",\"c++\"],\"levels\":[\"beginner\",\"intermediate\"]},{\"id\":115,\"description\":\"MIT 6.S096 Effective Programming in C and C++ (taught January IAP 2014)\",\"url\":\"http://ocw.mit.edu/courses/electrical-engineering-and-computer-science/6-s096-effective-programming-in-c-and-c-january-iap-2014\",\"types\":[\"tutorial\"],\"topics\":[\"c\",\"c++\"],\"levels\":[\"beginner\",\"intermediate\"]},{\"id\":116,\"description\":\"MIT 6.S096 Introduction to C and C++ (taught January IAP 2013)\",\"url\":\"http://ocw.mit.edu/courses/electrical-engineering-and-computer-science/6-s096-introduction-to-c-and-c-january-iap-2013\",\"types\":[\"tutorial\"],\"topics\":[\"c\",\"c++\"],\"levels\":[\"beginner\",\"intermediate\"]},{\"id\":117,\"description\":\"MIT OpenCourseWare\",\"url\":\"http://ocw.mit.edu/courses/electrical-engineering-and-computer-science/6-00-introduction-to-computer-science-and-programming-fall-2008/video-lectures\",\"types\":[\"school\",\"training\"],\"topics\":[\"schools\"],\"levels\":[\"beginner\",\"intermediate\",\"advanced\"]},{\"id\":118,\"description\":\"Mozilla\\'s Javascript Tutorial\",\"url\":\"https://developer.mozilla.org/en-US/docs/Web/JavaScript\",\"types\":[\"guide\"],\"topics\":[\"javascript\"],\"levels\":[\"beginner\",\"intermediate\"]},{\"id\":119,\"description\":\"Neural Networks for Machine Learning\",\"url\":\"https://www.coursera.org/course/neuralnets\",\"types\":[\"reference\",\"tutorial\"],\"topics\":[\"misc\",\"machine learning\"],\"levels\":[\"beginner\",\"intermediate\",\"advanced\"]},{\"id\":120,\"description\":\"NewCoder.io\",\"url\":\"http://newcoder.io\",\"types\":[\"tutorial\"],\"topics\":[\"python\"],\"levels\":[\"beginner\",\"intermediate\"]},{\"id\":121,\"description\":\"Nodeschool\",\"url\":\"http://nodeschool.io\",\"types\":[\"tutorial\",\"reference\"],\"topics\":[\"javascript\"],\"levels\":[\"beginner\",\"intermediate\"]},{\"id\":122,\"description\":\"Objective-C Programming: The Big Nerd Ranch Guide (2nd Edition):\",\"url\":\"http://www.amazon.com/Objective-C-Programming-Ranch-Guide-Guides/dp/032194206X/ref=sr_1_1?s=books&ie=UTF8&qid=1440459142&sr=1-1&keywords=objective+c&pebp=1440459145149&perid=0AX7W4FGDD464TBJAAYZ\",\"types\":[\"book\"],\"topics\":[\"iOS\",\"objective c\"],\"levels\":[\"beginner\",\"intermediate\"]},{\"id\":123,\"description\":\"One month Rails $$\",\"url\":\"https://onemonth.com/courses/one-month-rails\",\"types\":[\"video\",\"tutorial\"],\"topics\":[\"ruby\"],\"levels\":[\"beginner\",\"intermediate\"]},{\"id\":124,\"description\":\"Original Coding Style Conventions for Java from Sun\",\"url\":\"http://www.oracle.com/technetwork/java/codeconvtoc-136057.html\",\"types\":[\"style guide\"],\"topics\":[\"java\"],\"levels\":[\"beginner\",\"intermediate\",\"advanced\"]},{\"id\":125,\"description\":\"OverTheWire WarGames\",\"url\":\"http://overthewire.org/wargames\",\"types\":[\"hacking challenges\",\"demo apps\"],\"topics\":[\"security\"],\"levels\":[\"beginner\",\"intermediate\",\"advanced\"]},{\"id\":126,\"description\":\"OWASP Security Shepard \",\"url\":\"https://www.owasp.org/index.php/OWASP_Security_Shepherd\",\"types\":[\"hacking challenges\",\"demo apps\"],\"topics\":[\"security\"],\"levels\":[\"beginner\",\"intermediate\",\"advanced\"]},{\"id\":127,\"description\":\"picoCTF -- Carnegie Mellon University\\'s CTF training app\",\"url\":\"https://picoctf.com\",\"types\":[\"game\"],\"topics\":[\"security\",\"ctf\"],\"levels\":[\"beginner\",\"intermediate\"]},{\"id\":128,\"description\":\"Pluralsight Classes for Go\",\"url\":\"https://www.pluralsight.com/search.html?q=golang&categories=all\",\"types\":[\"video\",\"tutorial\"],\"topics\":[\"Go\"],\"levels\":[\"beginner\",\"intermediate\"]},{\"id\":129,\"description\":\"Pragmatic studio Rails course $$\",\"url\":\"https://pragmaticstudio.com/rails\",\"types\":[\"video\",\"tutorial\"],\"topics\":[\"ruby\"],\"levels\":[\"beginner\",\"intermediate\"]},{\"id\":130,\"description\":\"Pro Git\",\"url\":\"http://git-scm.com/book/en/v2\",\"types\":[\"book\"],\"topics\":[\"git\"],\"levels\":[\"beginner\",\"intermediate\"]},{\"id\":131,\"description\":\"Programr | Online IT Lab\",\"url\":\"http://www.programmr.com\",\"types\":[\"lab\"],\"topics\":[\"python\",\"android\",\"iOS\",\"angularjs\",\"ajax\",\"c++\",\"c#\",\"flash\",\"html\",\"css\",\"java\",\"jquery\",\"js\",\"j2ee\",\"php\",\"ruby\",\"sql\"],\"levels\":[\"beginner\",\"intermediate\",\"advanced\"]},{\"id\":132,\"description\":\"Project Euler\",\"url\":\"https://projecteuler.net\",\"types\":[\"tutorial\"],\"topics\":[\"algorithms\"],\"levels\":[\"beginner\",\"intermediate\"]},{\"id\":133,\"description\":\"Python Introduction - Google\\'s Python Class\",\"url\":\"https://developers.google.com/edu/python/introduction?csw=1\",\"types\":[\"tutorial\"],\"topics\":[\"python\"],\"levels\":[\"beginner\",\"intermediate\"]},{\"id\":134,\"description\":\"Rails Girls Guides - Rails Girls\",\"url\":\"http://guides.railsgirls.com\",\"types\":[\"tutorial\"],\"topics\":[\"ruby\"],\"levels\":[\"beginner\",\"intermediate\"]},{\"id\":135,\"description\":\"Ray Wenderlich tutorials\",\"url\":\"http://www.raywenderlich.com\",\"types\":[\"tutorial\",\"video\"],\"topics\":[\"iOS\"],\"levels\":[\"beginner\",\"intermediate\"]},{\"id\":136,\"description\":\"React js Tutorial -How Redux Works\",\"url\":\"https://www.youtube.com/watch?v=1w-oQ-i1XB8&list=PLoYCgNOIyGADILc3iUJzygCqC8Tt3bRXt\",\"types\":[\"video\",\"tutorial\"],\"topics\":[\"general programming\",\"learn to code\"],\"levels\":[\"advanced\"]},{\"id\":137,\"description\":\"Real Python\",\"url\":\"https://realpython.com\",\"types\":[\"tutorial\"],\"topics\":[\"python\"],\"levels\":[\"beginner\",\"intermediate\"]},{\"id\":138,\"description\":\"Ruby Best Practices - Book\",\"url\":\"https://practicingruby.com\",\"types\":[\"book\"],\"topics\":[\"ruby\"],\"levels\":[\"beginner\",\"intermediate\"]},{\"id\":139,\"description\":\"$ Ruby cheat browse \",\"url\":\"http://cheat.errtheblog.com\",\"types\":[\"reference\"],\"topics\":[\"ruby\"],\"levels\":[\"beginner\",\"intermediate\",\"advanced\"]},{\"id\":140,\"description\":\"Ruby in 100 minutes - Jumpstart Lab Curriculum\",\"url\":\"http://tutorials.jumpstartlab.com/projects/ruby_in_100_minutes.html\",\"types\":[\"tutorial\"],\"topics\":[\"ruby\"],\"levels\":[\"beginner\",\"intermediate\"]},{\"id\":141,\"description\":\"RubyMonk\",\"url\":\"https://rubymonk.com\",\"types\":[\"interactive course\",\"tutorial\"],\"topics\":[\"ruby\"],\"levels\":[\"beginner\",\"intermediate\"]},{\"id\":142,\"description\":\"Ruby.on-page.net \",\"url\":\"http://ruby.on-page.net\",\"types\":[\"tutorial\"],\"topics\":[\"ruby\"],\"levels\":[\"beginner\",\"intermediate\"]},{\"id\":143,\"description\":\"Ruby on Rails Guides\",\"url\":\"http://edgeguides.rubyonrails.org\",\"types\":[\"guide\"],\"topics\":[\"ruby\"],\"levels\":[\"beginner\",\"intermediate\"]},{\"id\":144,\"description\":\"Ruby on Rails Screencasts\",\"url\":\"http://railscasts.com\",\"types\":[\"video\"],\"topics\":[\"ruby\"],\"levels\":[\"beginner\",\"intermediate\"]},{\"id\":145,\"description\":\"Ruby on Rails Tutorial\",\"url\":\"http://ruby.railstutorial.org\",\"types\":[\"book\"],\"topics\":[\"ruby\"],\"levels\":[\"beginner\",\"intermediate\"]},{\"id\":146,\"description\":\"Ruby Quiz\",\"url\":\"http://rubyquiz.com\",\"types\":[\"quiz\"],\"topics\":[\"ruby\"],\"levels\":[\"beginner\",\"intermediate\"]},{\"id\":147,\"description\":\"SASS for Web Designers\",\"url\":\"http://www.abookapart.com/products/sass-for-web-designers\",\"types\":[\"book\"],\"topics\":[\"css\",\"sass\"],\"levels\":[\"intermediate\",\"beginner\"]},{\"id\":148,\"description\":\"Secure Coding Guidelines for Java SE\",\"url\":\"http://www.oracle.com/technetwork/java/seccodeguide-139067.html\",\"types\":[\"guidelines\"],\"topics\":[\"java\"],\"levels\":[\"beginner\",\"intermediate\",\"advanced\"]},{\"id\":149,\"description\":\"Smalltalk-72 Manual\",\"url\":\"http://bitsavers.informatik.uni-stuttgart.de/pdf/xerox/parc/techReports/Smalltalk-72_Instruction_Manual_Mar76.pdf\",\"types\":[\"book\"],\"topics\":[\"smalltalk\"],\"levels\":[\"beginner\",\"intermediate\"]},{\"id\":150,\"description\":\"Smalltalk: An Introduction to Application Development Using VisualWorks\",\"url\":\"https://books.google.co.in/books?id=zalQAAAAMAAJ&q=smalltalk&dq=smalltalk&hl=en&sa=X&ved=0CCgQ6AEwAmoVChMIw63Vo6CpyAIV0HGOCh3S2Alf\",\"types\":[\"book\"],\"topics\":[\"smalltalk\"],\"levels\":[\"beginner\",\"intermediate\"]},{\"id\":151,\"description\":\"Smalltalk Cheatsheet\",\"url\":\"http://www.angelfire.com/tx4/cus/notes/smalltalk.html\",\"types\":[\"cheatsheet\",\"reference\"],\"topics\":[\"smalltalk\"],\"levels\":[\"beginner\",\"intermediate\"]},{\"id\":152,\"description\":\"Smalltalk, Objects, and Design\",\"url\":\"https://books.google.co.in/books?id=W8_Une9cbbgC&printsec=frontcover&dq=smalltalk&hl=en&sa=X&ved=0CCIQ6AEwAWoVChMIw63Vo6CpyAIV0HGOCh3S2Alf#v=onepage&q=smalltalk&f=false\",\"types\":[\"book\"],\"topics\":[\"smalltalk\"],\"levels\":[\"beginner\",\"intermediate\"]},{\"id\":153,\"description\":\"Square\\'s Intro to D3.JS\",\"url\":\"http://square.github.io/intro-to-d3\",\"types\":[\"tutorial\"],\"topics\":[\"javascript\"],\"levels\":[\"beginner\",\"intermediate\"]},{\"id\":154,\"description\":\"Stack Overflow\",\"url\":\"http://stackoverflow.com\",\"types\":[\"help forum\"],\"topics\":[\"misc\"],\"levels\":[\"beginner\",\"intermediate\",\"advanced\"]},{\"id\":155,\"description\":\"Stanford School of Engineering\",\"url\":\"https://see.stanford.edu\",\"types\":[\"school\",\"training\"],\"topics\":[\"schools\"],\"levels\":[\"beginner\",\"intermediate\",\"advanced\"]},{\"id\":156,\"description\":\"Swift by Sundell\",\"url\":\"https://www.swiftbysundell.com\",\"types\":[\"tips\",\"article\",\"podcast\",\"video\",\"tutorial\"],\"topics\":[\"mobile app development\",\"swiftUI\",\"swift\",\"iOS\"],\"levels\":[\"intermediate\"]},{\"id\":157,\"description\":\"Swift for Good\",\"url\":\"https://www.swiftforgood.com\",\"types\":[\"book\"],\"topics\":[\"iOS App Development\",\"swiftUI\",\"swift\"],\"levels\":[\"beginner\"]},{\"id\":158,\"description\":\"Teaching Kids Programming Designed\",\"url\":\"http://teachingkidsprogramming.org\",\"types\":[\"tutorial\",\"kids\"],\"topics\":[\"java\"],\"levels\":[\"beginner\"]},{\"id\":159,\"description\":\"The Magic of CSS\",\"url\":\"http://adamschwartz.co/magic-of-css\",\"types\":[\"reference\",\"tutorial\"],\"topics\":[\"css\"],\"levels\":[\"intermediate\"]},{\"id\":160,\"description\":\"The Missing Manual for JavaScript & JQuery\",\"url\":\"http://www.amazon.com/JavaScript-jQuery-The-Missing-Manual/dp/1449399029\",\"types\":[\"book\"],\"topics\":[\"javascript\"],\"levels\":[\"intermediate\",\"beginner\"]},{\"id\":161,\"description\":\"The Well-Grounded Rubyist \",\"url\":\"http://www.amazon.com/Well-Grounded-Rubyist-David-Black/dp/1933988657\",\"types\":[\"book\"],\"topics\":[\"ruby\"],\"levels\":[\"beginner\",\"intermediate\"]},{\"id\":162,\"description\":\"Treehouse\",\"url\":\"https://teamtreehouse.com\",\"types\":[\"lab\",\"interactive course\",\"video\",\"tutorial\"],\"topics\":[\"design\",\"php\",\"iOS\",\"android\",\"java\",\"c#\",\"game development\",\"databases\",\"wordpress\",\"html\",\"css\",\"javascript\",\"ruby\"],\"levels\":[\"intermediate\",\"beginner\"]},{\"id\":163,\"description\":\"Try Git\",\"url\":\"https://try.github.io\",\"types\":[\"tutorial\"],\"topics\":[\"git\"],\"levels\":[\"beginner\"]},{\"id\":164,\"description\":\"Tryruby.org\",\"url\":\"http://tryruby.org/levels/1/challenges/0\",\"types\":[\"interactive course\"],\"topics\":[\"ruby\"],\"levels\":[\"beginner\",\"intermediate\"]},{\"id\":165,\"description\":\"Try SQL - Code School\",\"url\":\"https://www.codeschool.com/courses/try-sql\",\"types\":[\"tutorial\"],\"topics\":[\"sql\"],\"levels\":[\"beginner\",\"intermediate\"]},{\"id\":166,\"description\":\"Tutorials Point\",\"url\":\"http://www.tutorialspoint.com/javascript\",\"types\":[\"tutorial\"],\"topics\":[\"javascript\"],\"levels\":[\"beginner\",\"intermediate\"]},{\"id\":167,\"description\":\"Udemy\",\"url\":\"https://www.udemy.com\",\"types\":[\"podcast\",\"video\",\"tutorial\"],\"topics\":[\"nodejs\",\"rails\",\"python\",\"php\",\"iOS\",\"android\",\"java\",\"c#\",\"html\",\"css\",\"javascript\",\"ruby\"],\"levels\":[\"intermediate\",\"beginner\"]},{\"id\":168,\"description\":\"Udemy: Learn the Foundations of HTML\",\"url\":\"https://blog.udemy.com/learn-html-learn-the-foundations-of-html\",\"types\":[\"tutorial\",\"reference\"],\"topics\":[\"html\",\"css\"],\"levels\":[\"beginner\"]},{\"id\":169,\"description\":\"Udemy: Python Basics - Bootcamp\",\"url\":\"https://www.udemy.com/course/python-basics-bootcamp\",\"types\":[\"training practice guide tutorial\"],\"topics\":[\"python\"],\"levels\":[\"beginner\"]},{\"id\":170,\"description\":\"VIM Adventures\",\"url\":\"http://vim-adventures.com\",\"types\":[\"game\"],\"topics\":[\"misc\",\"vim\"],\"levels\":[\"beginner\",\"intermediate\",\"advanced\"]},{\"id\":171,\"description\":\"Visualgo - Animated visualizations for algorithms\",\"url\":\"http://visualgo.net\",\"types\":[\"tutorial\"],\"topics\":[\"algorithms\"],\"levels\":[\"beginner\",\"intermediate\"]},{\"id\":172,\"description\":\"w3schools.com\",\"url\":\"http://www.w3schools.com\",\"types\":[\"reference\",\"tutorial\"],\"topics\":[\"html\",\"css\",\"javascript\"],\"levels\":[\"beginner\"]},{\"id\":173,\"description\":\"Write SwiftUI Entirely on an iPad Using Swift Playgrounds\",\"url\":\"https://medium.com/better-programming/write-swiftui-entirely-on-an-ipad-using-swift-playgrounds-f48364e50c9a\",\"types\":[\"article\",\"tutorial\"],\"topics\":[\"swift playgrounds\",\"ipad\",\"iOS App Development\",\"swiftUI\",\"swift\",\"iOS\"],\"levels\":[\"beginner\"]}]'"
      ]
     },
     "execution_count": 69,
     "metadata": {},
     "output_type": "execute_result"
    }
   ],
   "source": [
    "data.content"
   ]
  },
  {
   "cell_type": "code",
   "execution_count": 70,
   "id": "b71bf82b",
   "metadata": {},
   "outputs": [],
   "source": [
    "df = pd.read_json(data.content)"
   ]
  },
  {
   "cell_type": "code",
   "execution_count": 71,
   "id": "5eed12a9",
   "metadata": {},
   "outputs": [
    {
     "data": {
      "text/html": [
       "<div>\n",
       "<style scoped>\n",
       "    .dataframe tbody tr th:only-of-type {\n",
       "        vertical-align: middle;\n",
       "    }\n",
       "\n",
       "    .dataframe tbody tr th {\n",
       "        vertical-align: top;\n",
       "    }\n",
       "\n",
       "    .dataframe thead th {\n",
       "        text-align: right;\n",
       "    }\n",
       "</style>\n",
       "<table border=\"1\" class=\"dataframe\">\n",
       "  <thead>\n",
       "    <tr style=\"text-align: right;\">\n",
       "      <th></th>\n",
       "      <th>id</th>\n",
       "      <th>description</th>\n",
       "      <th>url</th>\n",
       "      <th>types</th>\n",
       "      <th>topics</th>\n",
       "      <th>levels</th>\n",
       "    </tr>\n",
       "  </thead>\n",
       "  <tbody>\n",
       "    <tr>\n",
       "      <th>0</th>\n",
       "      <td>1</td>\n",
       "      <td>South Florida's Best Meetups on Youtube</td>\n",
       "      <td>https://www.youtube.com/bocajs</td>\n",
       "      <td>[tutorial]</td>\n",
       "      <td>[js, html]</td>\n",
       "      <td>[beginner, intermediate, advanced]</td>\n",
       "    </tr>\n",
       "    <tr>\n",
       "      <th>1</th>\n",
       "      <td>2</td>\n",
       "      <td>BocaJS - South Florida's Largest Developer Meetup</td>\n",
       "      <td>https://Meetup.com/bocajs</td>\n",
       "      <td>[meeting]</td>\n",
       "      <td>[js, html]</td>\n",
       "      <td>[beginner, intermediate, advanced]</td>\n",
       "    </tr>\n",
       "    <tr>\n",
       "      <th>2</th>\n",
       "      <td>3</td>\n",
       "      <td>Palm Beach Javascript</td>\n",
       "      <td>https://www.youtube.com/palm-beach-js</td>\n",
       "      <td>[meeting]</td>\n",
       "      <td>[js, html]</td>\n",
       "      <td>[beginner, intermediate, advanced]</td>\n",
       "    </tr>\n",
       "    <tr>\n",
       "      <th>3</th>\n",
       "      <td>4</td>\n",
       "      <td>35 Useful CSS3 Tutorials To Boost Your Skills</td>\n",
       "      <td>http://www.tripwiremagazine.com/2012/06/css3-t...</td>\n",
       "      <td>[tutorial]</td>\n",
       "      <td>[html, css]</td>\n",
       "      <td>[beginner, intermediate, advanced]</td>\n",
       "    </tr>\n",
       "    <tr>\n",
       "      <th>4</th>\n",
       "      <td>5</td>\n",
       "      <td>5 more ways to start learning how to code righ...</td>\n",
       "      <td>http://thenextweb.com/dd/2012/02/02/5-more-way...</td>\n",
       "      <td>[reference, blog post]</td>\n",
       "      <td>[learn to code, computer science, general prog...</td>\n",
       "      <td>[beginner]</td>\n",
       "    </tr>\n",
       "    <tr>\n",
       "      <th>...</th>\n",
       "      <td>...</td>\n",
       "      <td>...</td>\n",
       "      <td>...</td>\n",
       "      <td>...</td>\n",
       "      <td>...</td>\n",
       "      <td>...</td>\n",
       "    </tr>\n",
       "    <tr>\n",
       "      <th>168</th>\n",
       "      <td>169</td>\n",
       "      <td>Udemy: Python Basics - Bootcamp</td>\n",
       "      <td>https://www.udemy.com/course/python-basics-boo...</td>\n",
       "      <td>[training practice guide tutorial]</td>\n",
       "      <td>[python]</td>\n",
       "      <td>[beginner]</td>\n",
       "    </tr>\n",
       "    <tr>\n",
       "      <th>169</th>\n",
       "      <td>170</td>\n",
       "      <td>VIM Adventures</td>\n",
       "      <td>http://vim-adventures.com</td>\n",
       "      <td>[game]</td>\n",
       "      <td>[misc, vim]</td>\n",
       "      <td>[beginner, intermediate, advanced]</td>\n",
       "    </tr>\n",
       "    <tr>\n",
       "      <th>170</th>\n",
       "      <td>171</td>\n",
       "      <td>Visualgo - Animated visualizations for algorithms</td>\n",
       "      <td>http://visualgo.net</td>\n",
       "      <td>[tutorial]</td>\n",
       "      <td>[algorithms]</td>\n",
       "      <td>[beginner, intermediate]</td>\n",
       "    </tr>\n",
       "    <tr>\n",
       "      <th>171</th>\n",
       "      <td>172</td>\n",
       "      <td>w3schools.com</td>\n",
       "      <td>http://www.w3schools.com</td>\n",
       "      <td>[reference, tutorial]</td>\n",
       "      <td>[html, css, javascript]</td>\n",
       "      <td>[beginner]</td>\n",
       "    </tr>\n",
       "    <tr>\n",
       "      <th>172</th>\n",
       "      <td>173</td>\n",
       "      <td>Write SwiftUI Entirely on an iPad Using Swift ...</td>\n",
       "      <td>https://medium.com/better-programming/write-sw...</td>\n",
       "      <td>[article, tutorial]</td>\n",
       "      <td>[swift playgrounds, ipad, iOS App Development,...</td>\n",
       "      <td>[beginner]</td>\n",
       "    </tr>\n",
       "  </tbody>\n",
       "</table>\n",
       "<p>173 rows × 6 columns</p>\n",
       "</div>"
      ],
      "text/plain": [
       "      id                                        description  \\\n",
       "0      1            South Florida's Best Meetups on Youtube   \n",
       "1      2  BocaJS - South Florida's Largest Developer Meetup   \n",
       "2      3                              Palm Beach Javascript   \n",
       "3      4      35 Useful CSS3 Tutorials To Boost Your Skills   \n",
       "4      5  5 more ways to start learning how to code righ...   \n",
       "..   ...                                                ...   \n",
       "168  169                    Udemy: Python Basics - Bootcamp   \n",
       "169  170                                     VIM Adventures   \n",
       "170  171  Visualgo - Animated visualizations for algorithms   \n",
       "171  172                                      w3schools.com   \n",
       "172  173  Write SwiftUI Entirely on an iPad Using Swift ...   \n",
       "\n",
       "                                                   url  \\\n",
       "0                       https://www.youtube.com/bocajs   \n",
       "1                            https://Meetup.com/bocajs   \n",
       "2                https://www.youtube.com/palm-beach-js   \n",
       "3    http://www.tripwiremagazine.com/2012/06/css3-t...   \n",
       "4    http://thenextweb.com/dd/2012/02/02/5-more-way...   \n",
       "..                                                 ...   \n",
       "168  https://www.udemy.com/course/python-basics-boo...   \n",
       "169                          http://vim-adventures.com   \n",
       "170                                http://visualgo.net   \n",
       "171                           http://www.w3schools.com   \n",
       "172  https://medium.com/better-programming/write-sw...   \n",
       "\n",
       "                                  types  \\\n",
       "0                            [tutorial]   \n",
       "1                             [meeting]   \n",
       "2                             [meeting]   \n",
       "3                            [tutorial]   \n",
       "4                [reference, blog post]   \n",
       "..                                  ...   \n",
       "168  [training practice guide tutorial]   \n",
       "169                              [game]   \n",
       "170                          [tutorial]   \n",
       "171               [reference, tutorial]   \n",
       "172                 [article, tutorial]   \n",
       "\n",
       "                                                topics  \\\n",
       "0                                           [js, html]   \n",
       "1                                           [js, html]   \n",
       "2                                           [js, html]   \n",
       "3                                          [html, css]   \n",
       "4    [learn to code, computer science, general prog...   \n",
       "..                                                 ...   \n",
       "168                                           [python]   \n",
       "169                                        [misc, vim]   \n",
       "170                                       [algorithms]   \n",
       "171                            [html, css, javascript]   \n",
       "172  [swift playgrounds, ipad, iOS App Development,...   \n",
       "\n",
       "                                 levels  \n",
       "0    [beginner, intermediate, advanced]  \n",
       "1    [beginner, intermediate, advanced]  \n",
       "2    [beginner, intermediate, advanced]  \n",
       "3    [beginner, intermediate, advanced]  \n",
       "4                            [beginner]  \n",
       "..                                  ...  \n",
       "168                          [beginner]  \n",
       "169  [beginner, intermediate, advanced]  \n",
       "170            [beginner, intermediate]  \n",
       "171                          [beginner]  \n",
       "172                          [beginner]  \n",
       "\n",
       "[173 rows x 6 columns]"
      ]
     },
     "execution_count": 71,
     "metadata": {},
     "output_type": "execute_result"
    }
   ],
   "source": [
    "df"
   ]
  },
  {
   "cell_type": "code",
   "execution_count": 41,
   "id": "9e888492",
   "metadata": {},
   "outputs": [],
   "source": [
    "import json"
   ]
  },
  {
   "cell_type": "code",
   "execution_count": 46,
   "id": "baa8116e",
   "metadata": {},
   "outputs": [
    {
     "data": {
      "text/html": [
       "<div>\n",
       "<style scoped>\n",
       "    .dataframe tbody tr th:only-of-type {\n",
       "        vertical-align: middle;\n",
       "    }\n",
       "\n",
       "    .dataframe tbody tr th {\n",
       "        vertical-align: top;\n",
       "    }\n",
       "\n",
       "    .dataframe thead th {\n",
       "        text-align: right;\n",
       "    }\n",
       "</style>\n",
       "<table border=\"1\" class=\"dataframe\">\n",
       "  <thead>\n",
       "    <tr style=\"text-align: right;\">\n",
       "      <th></th>\n",
       "      <th>id</th>\n",
       "      <th>name</th>\n",
       "    </tr>\n",
       "  </thead>\n",
       "  <tbody>\n",
       "    <tr>\n",
       "      <th>0</th>\n",
       "      <td>102</td>\n",
       "      <td>a</td>\n",
       "    </tr>\n",
       "    <tr>\n",
       "      <th>1</th>\n",
       "      <td>103</td>\n",
       "      <td>b</td>\n",
       "    </tr>\n",
       "  </tbody>\n",
       "</table>\n",
       "</div>"
      ],
      "text/plain": [
       "    id name\n",
       "0  102    a\n",
       "1  103    b"
      ]
     },
     "execution_count": 46,
     "metadata": {},
     "output_type": "execute_result"
    }
   ],
   "source": [
    "fp = open(\"emp.json\")\n",
    "pd.DataFrame(json.load(fp))"
   ]
  },
  {
   "cell_type": "code",
   "execution_count": 47,
   "id": "48ed3d55",
   "metadata": {},
   "outputs": [],
   "source": [
    "df = pd.read_html('https://en.wikipedia.org/wiki/COVID-19_pandemic_by_country_and_territory')"
   ]
  },
  {
   "cell_type": "code",
   "execution_count": 63,
   "id": "97c76860",
   "metadata": {},
   "outputs": [
    {
     "data": {
      "text/html": [
       "<div>\n",
       "<style scoped>\n",
       "    .dataframe tbody tr th:only-of-type {\n",
       "        vertical-align: middle;\n",
       "    }\n",
       "\n",
       "    .dataframe tbody tr th {\n",
       "        vertical-align: top;\n",
       "    }\n",
       "\n",
       "    .dataframe thead th {\n",
       "        text-align: right;\n",
       "    }\n",
       "</style>\n",
       "<table border=\"1\" class=\"dataframe\">\n",
       "  <thead>\n",
       "    <tr style=\"text-align: right;\">\n",
       "      <th></th>\n",
       "      <th>Unnamed: 0</th>\n",
       "      <th>Country</th>\n",
       "      <th>Deaths / million</th>\n",
       "      <th>Deaths</th>\n",
       "      <th>Cases</th>\n",
       "    </tr>\n",
       "  </thead>\n",
       "  <tbody>\n",
       "    <tr>\n",
       "      <th>0</th>\n",
       "      <td>NaN</td>\n",
       "      <td>World[a]</td>\n",
       "      <td>867</td>\n",
       "      <td>7054080</td>\n",
       "      <td>775685948</td>\n",
       "    </tr>\n",
       "    <tr>\n",
       "      <th>1</th>\n",
       "      <td>NaN</td>\n",
       "      <td>Peru</td>\n",
       "      <td>6455</td>\n",
       "      <td>220975</td>\n",
       "      <td>4526977</td>\n",
       "    </tr>\n",
       "    <tr>\n",
       "      <th>2</th>\n",
       "      <td>NaN</td>\n",
       "      <td>Bulgaria</td>\n",
       "      <td>5728</td>\n",
       "      <td>38700</td>\n",
       "      <td>1329519</td>\n",
       "    </tr>\n",
       "    <tr>\n",
       "      <th>3</th>\n",
       "      <td>NaN</td>\n",
       "      <td>North Macedonia</td>\n",
       "      <td>5473</td>\n",
       "      <td>9977</td>\n",
       "      <td>350670</td>\n",
       "    </tr>\n",
       "    <tr>\n",
       "      <th>4</th>\n",
       "      <td>NaN</td>\n",
       "      <td>Bosnia and Herzegovina</td>\n",
       "      <td>5181</td>\n",
       "      <td>16390</td>\n",
       "      <td>403659</td>\n",
       "    </tr>\n",
       "    <tr>\n",
       "      <th>...</th>\n",
       "      <td>...</td>\n",
       "      <td>...</td>\n",
       "      <td>...</td>\n",
       "      <td>...</td>\n",
       "      <td>...</td>\n",
       "    </tr>\n",
       "    <tr>\n",
       "      <th>235</th>\n",
       "      <td>NaN</td>\n",
       "      <td>Niue</td>\n",
       "      <td>—</td>\n",
       "      <td>—</td>\n",
       "      <td>1074</td>\n",
       "    </tr>\n",
       "    <tr>\n",
       "      <th>236</th>\n",
       "      <td>NaN</td>\n",
       "      <td>Turkmenistan</td>\n",
       "      <td>—</td>\n",
       "      <td>0</td>\n",
       "      <td>0</td>\n",
       "    </tr>\n",
       "    <tr>\n",
       "      <th>237</th>\n",
       "      <td>NaN</td>\n",
       "      <td>Vatican City</td>\n",
       "      <td>—</td>\n",
       "      <td>0</td>\n",
       "      <td>26</td>\n",
       "    </tr>\n",
       "    <tr>\n",
       "      <th>238</th>\n",
       "      <td>NaN</td>\n",
       "      <td>Tokelau</td>\n",
       "      <td>—</td>\n",
       "      <td>0</td>\n",
       "      <td>80</td>\n",
       "    </tr>\n",
       "    <tr>\n",
       "      <th>239</th>\n",
       "      <td>.mw-parser-output .reflist{font-size:90%;margi...</td>\n",
       "      <td>.mw-parser-output .reflist{font-size:90%;margi...</td>\n",
       "      <td>.mw-parser-output .reflist{font-size:90%;margi...</td>\n",
       "      <td>.mw-parser-output .reflist{font-size:90%;margi...</td>\n",
       "      <td>.mw-parser-output .reflist{font-size:90%;margi...</td>\n",
       "    </tr>\n",
       "  </tbody>\n",
       "</table>\n",
       "<p>240 rows × 5 columns</p>\n",
       "</div>"
      ],
      "text/plain": [
       "                                            Unnamed: 0  \\\n",
       "0                                                  NaN   \n",
       "1                                                  NaN   \n",
       "2                                                  NaN   \n",
       "3                                                  NaN   \n",
       "4                                                  NaN   \n",
       "..                                                 ...   \n",
       "235                                                NaN   \n",
       "236                                                NaN   \n",
       "237                                                NaN   \n",
       "238                                                NaN   \n",
       "239  .mw-parser-output .reflist{font-size:90%;margi...   \n",
       "\n",
       "                                               Country  \\\n",
       "0                                             World[a]   \n",
       "1                                                 Peru   \n",
       "2                                             Bulgaria   \n",
       "3                                      North Macedonia   \n",
       "4                               Bosnia and Herzegovina   \n",
       "..                                                 ...   \n",
       "235                                               Niue   \n",
       "236                                       Turkmenistan   \n",
       "237                                       Vatican City   \n",
       "238                                            Tokelau   \n",
       "239  .mw-parser-output .reflist{font-size:90%;margi...   \n",
       "\n",
       "                                      Deaths / million  \\\n",
       "0                                                  867   \n",
       "1                                                 6455   \n",
       "2                                                 5728   \n",
       "3                                                 5473   \n",
       "4                                                 5181   \n",
       "..                                                 ...   \n",
       "235                                                  —   \n",
       "236                                                  —   \n",
       "237                                                  —   \n",
       "238                                                  —   \n",
       "239  .mw-parser-output .reflist{font-size:90%;margi...   \n",
       "\n",
       "                                                Deaths  \\\n",
       "0                                              7054080   \n",
       "1                                               220975   \n",
       "2                                                38700   \n",
       "3                                                 9977   \n",
       "4                                                16390   \n",
       "..                                                 ...   \n",
       "235                                                  —   \n",
       "236                                                  0   \n",
       "237                                                  0   \n",
       "238                                                  0   \n",
       "239  .mw-parser-output .reflist{font-size:90%;margi...   \n",
       "\n",
       "                                                 Cases  \n",
       "0                                            775685948  \n",
       "1                                              4526977  \n",
       "2                                              1329519  \n",
       "3                                               350670  \n",
       "4                                               403659  \n",
       "..                                                 ...  \n",
       "235                                               1074  \n",
       "236                                                  0  \n",
       "237                                                 26  \n",
       "238                                                 80  \n",
       "239  .mw-parser-output .reflist{font-size:90%;margi...  \n",
       "\n",
       "[240 rows x 5 columns]"
      ]
     },
     "execution_count": 63,
     "metadata": {},
     "output_type": "execute_result"
    }
   ],
   "source": [
    "df[12]"
   ]
  },
  {
   "cell_type": "code",
   "execution_count": 74,
   "id": "5b0a02c3",
   "metadata": {},
   "outputs": [],
   "source": [
    "df  =pd.read_json('emp.json')"
   ]
  },
  {
   "cell_type": "code",
   "execution_count": 65,
   "id": "52f2f614",
   "metadata": {},
   "outputs": [
    {
     "data": {
      "text/html": [
       "<div>\n",
       "<style scoped>\n",
       "    .dataframe tbody tr th:only-of-type {\n",
       "        vertical-align: middle;\n",
       "    }\n",
       "\n",
       "    .dataframe tbody tr th {\n",
       "        vertical-align: top;\n",
       "    }\n",
       "\n",
       "    .dataframe thead th {\n",
       "        text-align: right;\n",
       "    }\n",
       "</style>\n",
       "<table border=\"1\" class=\"dataframe\">\n",
       "  <thead>\n",
       "    <tr style=\"text-align: right;\">\n",
       "      <th></th>\n",
       "      <th>id</th>\n",
       "      <th>name</th>\n",
       "    </tr>\n",
       "  </thead>\n",
       "  <tbody>\n",
       "    <tr>\n",
       "      <th>0</th>\n",
       "      <td>102</td>\n",
       "      <td>a</td>\n",
       "    </tr>\n",
       "    <tr>\n",
       "      <th>1</th>\n",
       "      <td>103</td>\n",
       "      <td>b</td>\n",
       "    </tr>\n",
       "  </tbody>\n",
       "</table>\n",
       "</div>"
      ],
      "text/plain": [
       "    id name\n",
       "0  102    a\n",
       "1  103    b"
      ]
     },
     "execution_count": 65,
     "metadata": {},
     "output_type": "execute_result"
    }
   ],
   "source": [
    "df"
   ]
  },
  {
   "cell_type": "code",
   "execution_count": null,
   "id": "07b59e29",
   "metadata": {},
   "outputs": [],
   "source": [
    "Database - Data table\n",
    "query\n",
    "\n",
    "\n",
    "df -- store as table "
   ]
  },
  {
   "cell_type": "code",
   "execution_count": 66,
   "id": "84d20594",
   "metadata": {},
   "outputs": [
    {
     "data": {
      "text/html": [
       "<div>\n",
       "<style scoped>\n",
       "    .dataframe tbody tr th:only-of-type {\n",
       "        vertical-align: middle;\n",
       "    }\n",
       "\n",
       "    .dataframe tbody tr th {\n",
       "        vertical-align: top;\n",
       "    }\n",
       "\n",
       "    .dataframe thead th {\n",
       "        text-align: right;\n",
       "    }\n",
       "</style>\n",
       "<table border=\"1\" class=\"dataframe\">\n",
       "  <thead>\n",
       "    <tr style=\"text-align: right;\">\n",
       "      <th></th>\n",
       "      <th>id</th>\n",
       "      <th>name</th>\n",
       "    </tr>\n",
       "  </thead>\n",
       "  <tbody>\n",
       "    <tr>\n",
       "      <th>0</th>\n",
       "      <td>102</td>\n",
       "      <td>a</td>\n",
       "    </tr>\n",
       "    <tr>\n",
       "      <th>1</th>\n",
       "      <td>103</td>\n",
       "      <td>b</td>\n",
       "    </tr>\n",
       "  </tbody>\n",
       "</table>\n",
       "</div>"
      ],
      "text/plain": [
       "    id name\n",
       "0  102    a\n",
       "1  103    b"
      ]
     },
     "execution_count": 66,
     "metadata": {},
     "output_type": "execute_result"
    }
   ],
   "source": [
    "df.to"
   ]
  },
  {
   "cell_type": "code",
   "execution_count": 73,
   "id": "b8baf958",
   "metadata": {},
   "outputs": [],
   "source": [
    "df.to_html(\"temp.html\")"
   ]
  },
  {
   "cell_type": "code",
   "execution_count": 76,
   "id": "b08ec945",
   "metadata": {},
   "outputs": [],
   "source": [
    "df.to_excel('ttt.xlsx')"
   ]
  },
  {
   "cell_type": "code",
   "execution_count": null,
   "id": "0b966c61",
   "metadata": {},
   "outputs": [],
   "source": [
    "pandas -db --connection - IMP session"
   ]
  }
 ],
 "metadata": {
  "kernelspec": {
   "display_name": "Python 3",
   "language": "python",
   "name": "python3"
  },
  "language_info": {
   "codemirror_mode": {
    "name": "ipython",
    "version": 3
   },
   "file_extension": ".py",
   "mimetype": "text/x-python",
   "name": "python",
   "nbconvert_exporter": "python",
   "pygments_lexer": "ipython3",
   "version": "3.8.8"
  }
 },
 "nbformat": 4,
 "nbformat_minor": 5
}
